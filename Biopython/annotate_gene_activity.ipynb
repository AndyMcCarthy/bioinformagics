{
 "cells": [
  {
   "cell_type": "code",
   "execution_count": 8,
   "metadata": {},
   "outputs": [],
   "source": [
    "\n",
    "from Bio import Entrez\n",
    "from Bio import SeqIO\n",
    "import os\n",
    "\n",
    "Entrez.email = \"someone@email.com\"\n",
    "Entrez.tool = \"ENTREZ_Retrieval.ipynb\""
   ]
  },
  {
   "cell_type": "code",
   "execution_count": 9,
   "metadata": {},
   "outputs": [
    {
     "name": "stdout",
     "output_type": "stream",
     "text": [
      "{'Count': '1', 'RetMax': '1', 'RetStart': '0', 'IdList': ['256017191'], 'TranslationSet': [], 'QueryTranslation': ''}\n"
     ]
    }
   ],
   "source": [
    "#find a transcript or gene in nucleotid db and get it from NCBI in genbank format\n",
    "handle = Entrez.esearch(db=\"nucleotide\", term=\"NM_002977.3\", retmax=100)\n",
    "record = Entrez.read(handle)\n",
    "records = []\n",
    "handle = Entrez.efetch(db=\"nucleotide\", rettype=\"gbwithparts\", retmode=\"text\",\n",
    "                          id= record['IdList'][0])\n",
    "records.append(SeqIO.read(handle, 'genbank'))\n",
    "SeqIO.write(records, f'C:\\\\Users\\\\apmcc\\\\OneDrive\\\\Documents\\\\GRT_consulting\\\\Analysis\\\\NM_002977.3.gb', \"genbank\")\n"
   ]
  },
  {
   "cell_type": "code",
   "execution_count": 11,
   "metadata": {},
   "outputs": [
    {
     "name": "stdout",
     "output_type": "stream",
     "text": [
      "[Reference(title='Structural basis for severe pain caused by mutations in the voltage sensors of sodium channel NaV1.7', ...), Reference(title='Novel SCN9A variant associated with congenital insensitivity to pain', ...), Reference(title='Pain-causing stinging nettle toxins target TMEM233 to modulate NaV1.7 function', ...), Reference(title='An SCN9A channelopathy causes congenital inability to experience pain', ...), Reference(title='Evolution and diversity of mammalian sodium channel genes', ...), Reference(title='A novel tetrodotoxin-sensitive, voltage-gated sodium channel expressed in rat and human dorsal root ganglia', ...), Reference(title='Structure and functional expression of a new member of the tetrodotoxin-sensitive voltage-activated sodium channel family from human neuroendocrine cells', ...), Reference(title='Congenital Insensitivity to Pain Overview', ...), Reference(title='Hereditary Sensory and Autonomic Neuropathy Type II', ...), Reference(title='SCN9A Neuropathic Pain Syndromes', ...), Reference(title='Direct Submission', ...)]\n"
     ]
    }
   ],
   "source": [
    "#need to make a snapgene gb file with the following additional reference:\n",
    "# PUBMED   20301342\n",
    "# REFERENCE   11  (bases 1 to 9771)\n",
    "# AUTHORS   .\n",
    "# TITLE     Direct Submission\n",
    "# JOURNAL   Exported MMM DD, YYYY from SnapGene Viewer 7.1.1\n",
    "#             https://www.snapgene.com\n",
    "\n",
    "records = SeqIO.parse(f'NM_002977.3.gb', \"genbank\")\n",
    "#snapgene reference\n",
    "from Bio.SeqFeature import Reference \n",
    "ref = Reference()\n",
    "ref.authors='.'\n",
    "ref.title='Direct Submission'\n",
    "ref.journal= 'Exported Jan 10, 2024 from SnapGene Viewer 7.1.1 https://www.snapgene.com'\n",
    "ref.remark = 'https://www.snapgene.com'\n",
    "for record in records:\n",
    "    record.annotations['references'].append(ref)\n",
    "    for index, feature in enumerate(record.features):\n",
    "        try:\n",
    "            if feature.type == \"misc_feature\":\n",
    "                #print(feature)\n",
    "                record.features.pop(index)\n",
    "        except:\n",
    "            pass\n",
    "    SeqIO.write(record, \"NM_002977.3.clean.gb\", \"genbank\")"
   ]
  },
  {
   "cell_type": "code",
   "execution_count": 12,
   "metadata": {},
   "outputs": [],
   "source": [
    "#Create a colour list for potency\n",
    "from matplotlib import colors\n",
    "import matplotlib.pyplot as plt\n",
    "import numpy as np\n",
    "\n",
    "x = range(0,101,1)\n",
    "cmap = plt.get_cmap('RdYlGn')(np.linspace(0, 1, len(x)))\n",
    "color_list = [colors.rgb2hex(c) for c in cmap][::-1]"
   ]
  },
  {
   "cell_type": "code",
   "execution_count": 15,
   "metadata": {},
   "outputs": [
    {
     "name": "stdout",
     "output_type": "stream",
     "text": [
      "Sequence not found:  AAGAATCAAAGAAGCTCTC\n"
     ]
    },
    {
     "data": {
      "text/plain": [
       "1"
      ]
     },
     "execution_count": 15,
     "metadata": {},
     "output_type": "execute_result"
    }
   ],
   "source": [
    "import pandas as pd\n",
    "\n",
    "#read sequence\n",
    "siRNA_seqs = pd.read_csv('all_dfs.csv')\n",
    "patent_sequences =  siRNA_seqs[['Name','original_as_seqs','Avg_Expression']]\n",
    "patent_sequences = patent_sequences[patent_sequences['Avg_Expression'] <50]\n",
    "#     misc_feature    101..121\n",
    "#     /label=siRNA_check\n",
    "#     /note=\"color: #ff0000\"\n",
    "from Bio.Seq import Seq\n",
    "from Bio import SeqFeature as sf\n",
    "records = SeqIO.parse(f'NM_002977.3.clean.gb', \"genbank\")\n",
    "\n",
    "for record in records:\n",
    "    for index, patent_sequence in patent_sequences.iterrows():\n",
    "        sirna_sequence = Seq(patent_sequence['original_as_seqs']).reverse_complement()\n",
    "        if (record.seq.count(sirna_sequence.upper()) == 0):\n",
    "            #print(record.seq.count(sirna_sequence))\n",
    "            print(\"Sequence not found: \", sirna_sequence)\n",
    "        else:\n",
    "            #print(\"Sequence found\")\n",
    "            val = record.seq.find(sirna_sequence.upper())\n",
    "            percent_remaining = int(float(patent_sequence['Avg_Expression']))\n",
    "            if percent_remaining <= 100:\n",
    "                display_color = color_list[percent_remaining]\n",
    "            else:\n",
    "                display_color = color_list[100]\n",
    "            record.features.append(sf.SeqFeature(sf.FeatureLocation(val,val+len(sirna_sequence)), type=\"misc_feature\", qualifiers= {\"label\": patent_sequence['Name'], \"gene\":\"SCN9A\", \"note\": f\"color: {display_color}\", \"percent remaining\": patent_sequence['Avg_Expression']}))\n",
    "            #print(record.annotations)\n",
    "            #.append( {\"label\": \"siRNA1\", \"gene\":\"SCN9A\", \"note\": \"color: #ff0000\"})\n",
    "        \n",
    "SeqIO.write(record, \"NM_002977.3.clean.anno.50pctKD.gb\", \"genbank\")"
   ]
  }
 ],
 "metadata": {
  "kernelspec": {
   "display_name": "venv",
   "language": "python",
   "name": "python3"
  },
  "language_info": {
   "codemirror_mode": {
    "name": "ipython",
    "version": 3
   },
   "file_extension": ".py",
   "mimetype": "text/x-python",
   "name": "python",
   "nbconvert_exporter": "python",
   "pygments_lexer": "ipython3",
   "version": "3.11.7"
  }
 },
 "nbformat": 4,
 "nbformat_minor": 2
}
